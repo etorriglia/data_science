{
 "cells": [
  {
   "cell_type": "markdown",
   "id": "4fabdab1-611e-453e-9189-5dd7357aea88",
   "metadata": {},
   "source": [
    "# Data science tools and ecosystem\n"
   ]
  },
  {
   "cell_type": "markdown",
   "id": "e57bb18b-03cb-4197-9632-7a0547b40ea3",
   "metadata": {},
   "source": [
    "In this notebook, Data Science Tools and Ecosystem are summarized.\n"
   ]
  },
  {
   "cell_type": "markdown",
   "id": "20f3e679-5708-497a-a615-8fef1b8ff86b",
   "metadata": {},
   "source": [
    "**Objectives:**\n",
    "* List popular languages used in Data Science\n",
    "* List commonly used libraries in Data Science\n",
    "* Name some of the most commonly used Data Science Tools"
   ]
  },
  {
   "cell_type": "markdown",
   "id": "12305d18-6bbd-45a7-b115-5d88e34838b6",
   "metadata": {},
   "source": [
    "Some of the popular languages that Data Scientists use are:\n",
    "1. Python\n",
    "2. R\n",
    "3. SQL"
   ]
  },
  {
   "cell_type": "markdown",
   "id": "b02c47a2-1e64-4b02-870d-196ac53194da",
   "metadata": {},
   "source": [
    "Some of the commonly used libraries used by Data Scientists include:\n",
    "* pandas\n",
    "* scikit-learn\n",
    "* seaborn"
   ]
  },
  {
   "cell_type": "markdown",
   "id": "04459a67-397c-4ce2-8354-c1ca8c149259",
   "metadata": {},
   "source": [
    "| Data Science Tools | \n",
    "|------|\n",
    "| TensorFlow |\n",
    "| Jupyter Notebooks |\n",
    "| Hadoop |"
   ]
  },
  {
   "cell_type": "markdown",
   "id": "670b60e0-d60e-47fb-8ed1-36a7c00188e7",
   "metadata": {},
   "source": [
    "### Below are a few examples of evaluating arithmetic expressions in Python.\n"
   ]
  },
  {
   "cell_type": "code",
   "execution_count": 1,
   "id": "5ca6a8a6-df97-490d-8cb2-33ab1b94ef38",
   "metadata": {},
   "outputs": [
    {
     "data": {
      "text/plain": [
       "17"
      ]
     },
     "execution_count": 1,
     "metadata": {},
     "output_type": "execute_result"
    }
   ],
   "source": [
    "#This a simple arithmetic expression to mutiply then add integers\n",
    "(3*4)+5"
   ]
  },
  {
   "cell_type": "code",
   "execution_count": 2,
   "id": "2abe08d8-de6b-42f1-8e01-7729097a1ff9",
   "metadata": {},
   "outputs": [
    {
     "data": {
      "text/plain": [
       "3.3333333333333335"
      ]
     },
     "execution_count": 2,
     "metadata": {},
     "output_type": "execute_result"
    }
   ],
   "source": [
    "#This will convert 200 minutes to hours by diving by 60\n",
    "200/60"
   ]
  },
  {
   "cell_type": "markdown",
   "id": "060b96b4-20c0-4038-867b-fda2bf0ec571",
   "metadata": {},
   "source": [
    "## Author\n",
    "Emilia"
   ]
  },
  {
   "cell_type": "code",
   "execution_count": null,
   "id": "c38db203-5165-41f4-b7f4-b8a387c150ae",
   "metadata": {},
   "outputs": [],
   "source": []
  }
 ],
 "metadata": {
  "kernelspec": {
   "display_name": "Python 3 (ipykernel)",
   "language": "python",
   "name": "python3"
  },
  "language_info": {
   "codemirror_mode": {
    "name": "ipython",
    "version": 3
   },
   "file_extension": ".py",
   "mimetype": "text/x-python",
   "name": "python",
   "nbconvert_exporter": "python",
   "pygments_lexer": "ipython3",
   "version": "3.12.8"
  }
 },
 "nbformat": 4,
 "nbformat_minor": 5
}
